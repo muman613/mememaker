{
 "cells": [
  {
   "cell_type": "code",
   "id": "initial_id",
   "metadata": {
    "collapsed": true
   },
   "source": [
    "import sys\n",
    "\n",
    "from exceptiongroup import catch\n",
    "\n",
    "print(f'Python {sys.version}') "
   ],
   "outputs": [],
   "execution_count": null
  },
  {
   "metadata": {},
   "cell_type": "code",
   "source": [
    "import json\n",
    "import os\n",
    "\n",
    "page_file = 'resources/pages/letter.json'\n",
    "json_data = None\n",
    "\n",
    "if os.path.exists(page_file):\n",
    "    with open(page_file, 'r') as f:\n",
    "        json_data = json.load(f)\n",
    "\n",
    "if json_data is not None and 'page' in json_data:\n",
    "    print(json_data[\"page\"][\"dpi\"])\n",
    "    \n"
   ],
   "id": "f78b003754fdfb69",
   "outputs": [],
   "execution_count": null
  },
  {
   "metadata": {},
   "cell_type": "code",
   "source": [
    "import json\n",
    "from PIL import Image, ImageDraw\n",
    "\n",
    "class GraphicalPage:\n",
    "    def __init__(self, width_in, height_in, dpi, bg_color, border_width, border_color):\n",
    "        # Convert dimensions from inches to pixels using DPI\n",
    "        self.width_px = int(width_in * dpi[0])\n",
    "        self.height_px = int(height_in * dpi[1])\n",
    "        self.dpi = dpi\n",
    "        self.bg_color = bg_color\n",
    "        self.border_width = border_width\n",
    "        self.border_color = border_color\n",
    "\n",
    "    @classmethod\n",
    "    def from_json(cls, json_data):\n",
    "        # Parse the JSON data\n",
    "        page_data = json_data['page']\n",
    "        dimensions = page_data['dimensions']\n",
    "        dpi = page_data['dpi']\n",
    "        bg_color = page_data['bg']\n",
    "        border_data = page_data['border']\n",
    "        border_width = border_data['width']\n",
    "        border_color = border_data['color']\n",
    "\n",
    "        return cls(\n",
    "            width_in=dimensions['width'],\n",
    "            height_in=dimensions['height'],\n",
    "            dpi=dpi,\n",
    "            bg_color=bg_color,\n",
    "            border_width=border_width,\n",
    "            border_color=border_color\n",
    "        )\n",
    "\n",
    "    def create_image(self):\n",
    "        # Create a blank image with the background color\n",
    "        image = Image.new(\"RGB\", (self.width_px, self.height_px), self.bg_color)\n",
    "        draw = ImageDraw.Draw(image)\n",
    "\n",
    "        # Draw the border if border width is greater than 0\n",
    "        if self.border_width > 0:\n",
    "            # Calculate the border dimensions and draw the rectangle\n",
    "            draw.rectangle(\n",
    "                [(self.border_width // 2, self.border_width // 2), \n",
    "                 (self.width_px - self.border_width // 2, self.height_px - self.border_width // 2)], \n",
    "                outline=self.border_color, \n",
    "                width=self.border_width\n",
    "            )\n",
    "\n",
    "        return image\n",
    "\n",
    "# Example usage:\n",
    "\n",
    "page_data = None\n",
    "# Load JSON data\n",
    "if os.path.exists(page_file):\n",
    "    with open(page_file, 'r') as f:\n",
    "        page_data = json.load(f)\n",
    "\n",
    "# page_data = json.loads(json_string)\n",
    "\n",
    "# Create the graphical page from JSON\n",
    "page = GraphicalPage.from_json(page_data)\n",
    "\n",
    "# Generate the image\n",
    "image = page.create_image()\n",
    "\n",
    "# Save or display the image\n",
    "image.show()  # This will open the image in the default viewer\n",
    "image.save(\"output_page.png\")  # Optionally save the image to a file\n"
   ],
   "id": "9efbb9dc0686d65b",
   "outputs": [],
   "execution_count": null
  },
  {
   "metadata": {},
   "cell_type": "code",
   "source": [
    "from mememaker import GraphicalPage\n",
    "\n",
    "# Create the graphical page from JSON\n",
    "page = GraphicalPage.load_from_name(\"hd\")\n",
    "\n",
    "# Generate the image\n",
    "image = page.create_image()\n",
    "\n",
    "# Save or display the image\n",
    "image.show()  # This will open the image in the default viewer\n",
    "image.save(\"output_page.png\")  #"
   ],
   "id": "82d0cc569960c58f",
   "outputs": [],
   "execution_count": null
  },
  {
   "metadata": {},
   "cell_type": "markdown",
   "source": "",
   "id": "173b5ab63d0e52d0"
  },
  {
   "metadata": {
    "ExecuteTime": {
     "end_time": "2024-09-24T01:00:25.738712Z",
     "start_time": "2024-09-24T01:00:25.279638Z"
    }
   },
   "cell_type": "code",
   "source": [
    "from mememaker import GraphicalPage, load_template\n",
    "\n",
    "page_file = 'resources/pages/letter.json'\n",
    "\n",
    "# Create the graphical page from JSON\n",
    "page = GraphicalPage.load_from_filename(page_file)\n",
    "\n",
    "# Generate the image\n",
    "image = page.create_image()\n",
    "\n",
    "# Save or display the image\n",
    "image.show()  # This will open the image in the default viewer\n",
    "image.save(\"output_page.png\")  #\n"
   ],
   "id": "d4dc5f500ada5345",
   "outputs": [],
   "execution_count": 1
  },
  {
   "metadata": {},
   "cell_type": "code",
   "source": [
    "from mememaker import scan_directory_for_json\n",
    "\n",
    "# Example usage\n",
    "path_list = [ 'resources/pages', 'resources/templates', 'resources/ridiculous' ]\n",
    "\n",
    "for directory_path in path_list:\n",
    "    try:\n",
    "        json_files = scan_directory_for_json(directory_path)\n",
    "    \n",
    "        # Output the list of .json files found\n",
    "        for json_file in json_files:\n",
    "            print(json_file)\n",
    "    except Exception as e:\n",
    "        print(f'Error : {e}')\n",
    "        "
   ],
   "id": "a6f439fbc38c1eac",
   "outputs": [],
   "execution_count": null
  },
  {
   "metadata": {},
   "cell_type": "code",
   "source": [
    "from mememaker import load_page, load_template\n",
    "import json\n",
    "\n",
    "try:\n",
    "    page_json = load_page(\"a4\")\n",
    "    template_json = load_template(\"meme1\")\n",
    "    \n",
    "    print(json.dumps(page_json, indent=2))\n",
    "    print(json.dumps(template_json, indent=2))\n",
    "except Exception as e:\n",
    "    print(f'Error: {e}')\n"
   ],
   "id": "a52a9e1476ae158c",
   "outputs": [],
   "execution_count": null
  },
  {
   "metadata": {},
   "cell_type": "markdown",
   "source": "## Example using Exception",
   "id": "f64a6ada5d3f4233"
  },
  {
   "metadata": {},
   "cell_type": "code",
   "source": [
    "from mememaker import load_page, load_template\n",
    "import json\n",
    "\n",
    "try:\n",
    "    page_dats = load_page('shit')\n",
    "except FileNotFoundError as e:\n",
    "    print(f\"Error: {e}\")\n",
    "    "
   ],
   "id": "e51bfb319fc35eec",
   "outputs": [],
   "execution_count": null
  },
  {
   "metadata": {
    "ExecuteTime": {
     "end_time": "2024-09-23T23:37:00.387261Z",
     "start_time": "2024-09-23T23:37:00.379946Z"
    }
   },
   "cell_type": "code",
   "source": [
    "from mememaker import get_page_names, get_template_names\n",
    "\n",
    "page_names = get_page_names()\n",
    "template_names = get_template_names()\n",
    "\n",
    "print(page_names)\n",
    "print(template_names)\n"
   ],
   "id": "1d77bfdea70926cb",
   "outputs": [
    {
     "name": "stdout",
     "output_type": "stream",
     "text": [
      "['hd', 'letter', 'a4']\n",
      "['meme1']\n"
     ]
    }
   ],
   "execution_count": 4
  },
  {
   "metadata": {
    "ExecuteTime": {
     "end_time": "2024-09-26T07:24:08.710481Z",
     "start_time": "2024-09-26T07:24:08.445816Z"
    }
   },
   "cell_type": "code",
   "source": [
    "from mememaker import GraphicalTemplate\n",
    "\n",
    "template = GraphicalTemplate.load_from_name(\"meme1\")\n",
    "\n",
    "image = template.render_template()\n",
    "\n",
    "image.show()\n"
   ],
   "id": "d5ca1086f360d3ba",
   "outputs": [],
   "execution_count": 1
  },
  {
   "metadata": {
    "ExecuteTime": {
     "end_time": "2024-09-25T13:19:45.587385Z",
     "start_time": "2024-09-25T13:19:44.968801Z"
    }
   },
   "cell_type": "code",
   "source": [
    "import json\n",
    "from PIL import Image, ImageDraw\n",
    "\n",
    "def resizeByHeight(image, height):\n",
    "    image_ratio = image.size[0]/image.size[1]\n",
    "    resized_image = image.resize((int(height*image_ratio), height))\n",
    "    return resized_image\n",
    "\n",
    "\n",
    "def resizeByWidth(image, width):\n",
    "    image_ratio = image.size[1]/image.size[0]\n",
    "    resized_image = image.resize((width, int(width*image_ratio)))\n",
    "    return resized_image\n",
    "\n",
    "source_image = Image.open(\"resources/images/aurora.jpg\")\n",
    "# image_ratio = source_image.size[0]/source_image.size[1]\n",
    "# print(f'Image Ratio : {image_ratio}')\n",
    "# resized_image = source_image.resize((int(800*image_ratio), 800)) \n",
    "resized_image = resizeByHeight(source_image, 800)\n",
    "resized_image.show()\n",
    "resized_image = resizeByWidth(source_image, 800)\n",
    "resized_image.show()\n",
    "# resized_image = source_image.resize( 800,(int(800*image_ratio))) \n",
    "# resized_image.show()"
   ],
   "id": "15717d2bd35908c1",
   "outputs": [],
   "execution_count": 5
  },
  {
   "metadata": {
    "ExecuteTime": {
     "end_time": "2024-09-26T00:43:06.049714Z",
     "start_time": "2024-09-26T00:43:06.040818Z"
    }
   },
   "cell_type": "code",
   "source": [
    "from mememaker import load_json_file\n",
    "import json\n",
    "\n",
    "payload_json = load_json_file('resources/payload.json')\n",
    "\n",
    "print(json.dumps(payload_json, indent=2))\n",
    "\n",
    "payload_data = payload_json['payload']\n",
    "\n",
    "for entityId in payload_data:\n",
    "    print(entityId)\n",
    "    "
   ],
   "id": "5a08751f5a8fd180",
   "outputs": [
    {
     "name": "stdout",
     "output_type": "stream",
     "text": [
      "{\n",
      "  \"payload\": {\n",
      "    \"image\": {\n",
      "      \"source\": \"aurora.jpg\",\n",
      "      \"align\": \"center\"\n",
      "    },\n",
      "    \"text1\": {\n",
      "      \"text\": \"Hello World\",\n",
      "      \"color\": \"black\",\n",
      "      \"align\": \"center\",\n",
      "      \"size\": 32\n",
      "    },\n",
      "    \"text2\": {\n",
      "      \"text\": \"Goodbye World\",\n",
      "      \"color\": \"red\",\n",
      "      \"align\": \"center\",\n",
      "      \"size\": 32\n",
      "    }\n",
      "  }\n",
      "}\n",
      "image\n",
      "text1\n",
      "text2\n"
     ]
    }
   ],
   "execution_count": 17
  }
 ],
 "metadata": {
  "kernelspec": {
   "display_name": "Python 3",
   "language": "python",
   "name": "python3"
  },
  "language_info": {
   "codemirror_mode": {
    "name": "ipython",
    "version": 2
   },
   "file_extension": ".py",
   "mimetype": "text/x-python",
   "name": "python",
   "nbconvert_exporter": "python",
   "pygments_lexer": "ipython2",
   "version": "2.7.6"
  }
 },
 "nbformat": 4,
 "nbformat_minor": 5
}
