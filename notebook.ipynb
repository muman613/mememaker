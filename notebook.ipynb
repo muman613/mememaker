{
 "cells": [
  {
   "cell_type": "code",
   "id": "initial_id",
   "metadata": {
    "collapsed": true,
    "ExecuteTime": {
     "end_time": "2024-09-21T11:00:36.853090Z",
     "start_time": "2024-09-21T11:00:36.845579Z"
    }
   },
   "source": [
    "import sys\n",
    "\n",
    "print(f'Python {sys.version}') "
   ],
   "outputs": [
    {
     "name": "stdout",
     "output_type": "stream",
     "text": [
      "Python 3.8.10 (default, Jul 29 2024, 17:02:10) \n",
      "[GCC 9.4.0]\n"
     ]
    }
   ],
   "execution_count": 1
  },
  {
   "metadata": {
    "ExecuteTime": {
     "end_time": "2024-09-21T11:00:36.913576Z",
     "start_time": "2024-09-21T11:00:36.904450Z"
    }
   },
   "cell_type": "code",
   "source": [
    "import json\n",
    "import os\n",
    "\n",
    "page_file = 'resources/pages/letter.json'\n",
    "json_data = None\n",
    "\n",
    "if os.path.exists(page_file):\n",
    "    with open(page_file, 'r') as f:\n",
    "        json_data = json.load(f)\n",
    "\n",
    "if json_data is not None and 'page' in json_data:\n",
    "    print(json_data[\"page\"][\"dpi\"])\n",
    "    \n"
   ],
   "id": "f78b003754fdfb69",
   "outputs": [
    {
     "name": "stdout",
     "output_type": "stream",
     "text": [
      "[300, 300]\n"
     ]
    }
   ],
   "execution_count": 2
  },
  {
   "metadata": {
    "ExecuteTime": {
     "end_time": "2024-09-21T11:01:54.938866Z",
     "start_time": "2024-09-21T11:01:54.503779Z"
    }
   },
   "cell_type": "code",
   "source": [
    "import json\n",
    "from PIL import Image, ImageDraw\n",
    "\n",
    "class GraphicalPage:\n",
    "    def __init__(self, width_in, height_in, dpi, bg_color, border_width, border_color):\n",
    "        # Convert dimensions from inches to pixels using DPI\n",
    "        self.width_px = int(width_in * dpi[0])\n",
    "        self.height_px = int(height_in * dpi[1])\n",
    "        self.dpi = dpi\n",
    "        self.bg_color = bg_color\n",
    "        self.border_width = border_width\n",
    "        self.border_color = border_color\n",
    "\n",
    "    @classmethod\n",
    "    def from_json(cls, json_data):\n",
    "        # Parse the JSON data\n",
    "        page_data = json_data['page']\n",
    "        dimensions = page_data['dimensions']\n",
    "        dpi = page_data['dpi']\n",
    "        bg_color = page_data['bg']\n",
    "        border_data = page_data['border']\n",
    "        border_width = border_data['width']\n",
    "        border_color = border_data['color']\n",
    "\n",
    "        return cls(\n",
    "            width_in=dimensions['width'],\n",
    "            height_in=dimensions['height'],\n",
    "            dpi=dpi,\n",
    "            bg_color=bg_color,\n",
    "            border_width=border_width,\n",
    "            border_color=border_color\n",
    "        )\n",
    "\n",
    "    def create_image(self):\n",
    "        # Create a blank image with the background color\n",
    "        image = Image.new(\"RGB\", (self.width_px, self.height_px), self.bg_color)\n",
    "        draw = ImageDraw.Draw(image)\n",
    "\n",
    "        # Draw the border if border width is greater than 0\n",
    "        if self.border_width > 0:\n",
    "            # Calculate the border dimensions and draw the rectangle\n",
    "            draw.rectangle(\n",
    "                [(self.border_width // 2, self.border_width // 2), \n",
    "                 (self.width_px - self.border_width // 2, self.height_px - self.border_width // 2)], \n",
    "                outline=self.border_color, \n",
    "                width=self.border_width\n",
    "            )\n",
    "\n",
    "        return image\n",
    "\n",
    "# Example usage:\n",
    "\n",
    "page_data = None\n",
    "# Load JSON data\n",
    "if os.path.exists(page_file):\n",
    "    with open(page_file, 'r') as f:\n",
    "        page_data = json.load(f)\n",
    "\n",
    "# page_data = json.loads(json_string)\n",
    "\n",
    "# Create the graphical page from JSON\n",
    "page = GraphicalPage.from_json(page_data)\n",
    "\n",
    "# Generate the image\n",
    "image = page.create_image()\n",
    "\n",
    "# Save or display the image\n",
    "image.show()  # This will open the image in the default viewer\n",
    "image.save(\"output_page.png\")  # Optionally save the image to a file\n"
   ],
   "id": "9efbb9dc0686d65b",
   "outputs": [],
   "execution_count": 4
  },
  {
   "metadata": {
    "ExecuteTime": {
     "end_time": "2024-09-22T15:39:54.510905Z",
     "start_time": "2024-09-22T15:39:54.371215Z"
    }
   },
   "cell_type": "code",
   "source": [
    "from mememaker import GraphicalPage\n",
    "\n",
    "# Create the graphical page from JSON\n",
    "page = GraphicalPage.load_from_name(\"hd\")\n",
    "\n",
    "# Generate the image\n",
    "image = page.create_image()\n",
    "\n",
    "# Save or display the image\n",
    "image.show()  # This will open the image in the default viewer\n",
    "image.save(\"output_page.png\")  #"
   ],
   "id": "82d0cc569960c58f",
   "outputs": [],
   "execution_count": 2
  },
  {
   "metadata": {},
   "cell_type": "markdown",
   "source": "",
   "id": "173b5ab63d0e52d0"
  },
  {
   "metadata": {
    "ExecuteTime": {
     "end_time": "2024-09-21T22:44:40.269464Z",
     "start_time": "2024-09-21T22:44:39.753234Z"
    }
   },
   "cell_type": "code",
   "source": [
    "from mememaker import GraphicalPage, load_template\n",
    "\n",
    "page_file = 'resources/pages/letter.json'\n",
    "\n",
    "# Create the graphical page from JSON\n",
    "page = GraphicalPage.load_from_filename(page_file)\n",
    "\n",
    "# Generate the image\n",
    "image = page.create_image()\n",
    "\n",
    "# Save or display the image\n",
    "image.show()  # This will open the image in the default viewer\n",
    "image.save(\"output_page.png\")  #\n"
   ],
   "id": "d4dc5f500ada5345",
   "outputs": [],
   "execution_count": 7
  },
  {
   "metadata": {
    "ExecuteTime": {
     "end_time": "2024-09-22T03:24:35.150682Z",
     "start_time": "2024-09-22T03:24:35.142126Z"
    }
   },
   "cell_type": "code",
   "source": [
    "from mememaker import scan_directory_for_json\n",
    "\n",
    "# Example usage\n",
    "directory_path = 'resources/pages'\n",
    "\n",
    "json_files = scan_directory_for_json(directory_path)\n",
    "\n",
    "# Output the list of .json files found\n",
    "for json_file in json_files:\n",
    "    print(json_file)"
   ],
   "id": "a6f439fbc38c1eac",
   "outputs": [
    {
     "name": "stdout",
     "output_type": "stream",
     "text": [
      "resources/pages/letter.json\n",
      "resources/pages/a4.json\n"
     ]
    }
   ],
   "execution_count": 3
  },
  {
   "metadata": {
    "ExecuteTime": {
     "end_time": "2024-09-22T15:39:31.663939Z",
     "start_time": "2024-09-22T15:39:31.627823Z"
    }
   },
   "cell_type": "code",
   "source": [
    "from mememaker import load_page, load_template\n",
    "import json\n",
    "\n",
    "page_json = load_page(\"a4\")\n",
    "template_json = load_template(\"meme1\")\n",
    "\n",
    "print(json.dumps(page_json))\n",
    "print(json.dumps(template_json))\n",
    "\n"
   ],
   "id": "a52a9e1476ae158c",
   "outputs": [
    {
     "name": "stdout",
     "output_type": "stream",
     "text": [
      "{\"page\": {\"name\": \"a4\", \"dimensions\": {\"width\": 8.27, \"height\": 11.69, \"units\": \"in\"}, \"dpi\": [300, 300], \"bg\": \"lightblue\", \"border\": {\"width\": 8, \"color\": \"yellow\"}}}\n",
      "{\"template\": {\"name\": \"meme1\", \"page\": \"letter\", \"areas\": [{\"name\": \"image\", \"type\": \"image\", \"dimensions\": {\"top\": 20, \"left\": 10, \"bottom\": 80, \"right\": 90}}]}}\n"
     ]
    }
   ],
   "execution_count": 1
  },
  {
   "metadata": {
    "ExecuteTime": {
     "end_time": "2024-09-22T15:40:26.596970Z",
     "start_time": "2024-09-22T15:40:26.391365Z"
    }
   },
   "cell_type": "code",
   "source": [
    "from mememaker import load_page, load_template\n",
    "import json\n",
    "\n",
    "load_page('shit')"
   ],
   "id": "e51bfb319fc35eec",
   "outputs": [
    {
     "ename": "FileNotFoundError",
     "evalue": "No page found with the name 'shit' in resources/pages",
     "output_type": "error",
     "traceback": [
      "\u001B[0;31m---------------------------------------------------------------------------\u001B[0m",
      "\u001B[0;31mFileNotFoundError\u001B[0m                         Traceback (most recent call last)",
      "Cell \u001B[0;32mIn[3], line 4\u001B[0m\n\u001B[1;32m      1\u001B[0m \u001B[38;5;28;01mfrom\u001B[39;00m \u001B[38;5;21;01mmememaker\u001B[39;00m \u001B[38;5;28;01mimport\u001B[39;00m load_page, load_template\n\u001B[1;32m      2\u001B[0m \u001B[38;5;28;01mimport\u001B[39;00m \u001B[38;5;21;01mjson\u001B[39;00m\n\u001B[0;32m----> 4\u001B[0m \u001B[43mload_page\u001B[49m\u001B[43m(\u001B[49m\u001B[38;5;124;43m'\u001B[39;49m\u001B[38;5;124;43mshit\u001B[39;49m\u001B[38;5;124;43m'\u001B[39;49m\u001B[43m)\u001B[49m\n",
      "File \u001B[0;32m~/gitroot/mememaker/mememaker/utils.py:37\u001B[0m, in \u001B[0;36mload_page\u001B[0;34m(page_name)\u001B[0m\n\u001B[1;32m     34\u001B[0m             \u001B[38;5;28;01mreturn\u001B[39;00m page_json\n\u001B[1;32m     36\u001B[0m \u001B[38;5;66;03m# If no matching page is found, raise an exception\u001B[39;00m\n\u001B[0;32m---> 37\u001B[0m \u001B[38;5;28;01mraise\u001B[39;00m \u001B[38;5;167;01mFileNotFoundError\u001B[39;00m(\u001B[38;5;124mf\u001B[39m\u001B[38;5;124m\"\u001B[39m\u001B[38;5;124mNo page found with the name \u001B[39m\u001B[38;5;124m'\u001B[39m\u001B[38;5;132;01m{\u001B[39;00mpage_name\u001B[38;5;132;01m}\u001B[39;00m\u001B[38;5;124m'\u001B[39m\u001B[38;5;124m in \u001B[39m\u001B[38;5;132;01m{\u001B[39;00mPAGES_PATH\u001B[38;5;132;01m}\u001B[39;00m\u001B[38;5;124m\"\u001B[39m)\n",
      "\u001B[0;31mFileNotFoundError\u001B[0m: No page found with the name 'shit' in resources/pages"
     ]
    }
   ],
   "execution_count": 3
  }
 ],
 "metadata": {
  "kernelspec": {
   "display_name": "Python 3",
   "language": "python",
   "name": "python3"
  },
  "language_info": {
   "codemirror_mode": {
    "name": "ipython",
    "version": 2
   },
   "file_extension": ".py",
   "mimetype": "text/x-python",
   "name": "python",
   "nbconvert_exporter": "python",
   "pygments_lexer": "ipython2",
   "version": "2.7.6"
  }
 },
 "nbformat": 4,
 "nbformat_minor": 5
}
