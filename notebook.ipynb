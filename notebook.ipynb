{
 "cells": [
  {
   "cell_type": "code",
   "id": "initial_id",
   "metadata": {
    "collapsed": true,
    "ExecuteTime": {
     "end_time": "2024-09-21T11:00:36.853090Z",
     "start_time": "2024-09-21T11:00:36.845579Z"
    }
   },
   "source": [
    "import sys\n",
    "\n",
    "from exceptiongroup import catch\n",
    "\n",
    "print(f'Python {sys.version}') "
   ],
   "outputs": [
    {
     "name": "stdout",
     "output_type": "stream",
     "text": [
      "Python 3.8.10 (default, Jul 29 2024, 17:02:10) \n",
      "[GCC 9.4.0]\n"
     ]
    }
   ],
   "execution_count": 1
  },
  {
   "metadata": {
    "ExecuteTime": {
     "end_time": "2024-09-21T11:00:36.913576Z",
     "start_time": "2024-09-21T11:00:36.904450Z"
    }
   },
   "cell_type": "code",
   "source": [
    "import json\n",
    "import os\n",
    "\n",
    "page_file = 'resources/pages/letter.json'\n",
    "json_data = None\n",
    "\n",
    "if os.path.exists(page_file):\n",
    "    with open(page_file, 'r') as f:\n",
    "        json_data = json.load(f)\n",
    "\n",
    "if json_data is not None and 'page' in json_data:\n",
    "    print(json_data[\"page\"][\"dpi\"])\n",
    "    \n"
   ],
   "id": "f78b003754fdfb69",
   "outputs": [
    {
     "name": "stdout",
     "output_type": "stream",
     "text": [
      "[300, 300]\n"
     ]
    }
   ],
   "execution_count": 2
  },
  {
   "metadata": {
    "ExecuteTime": {
     "end_time": "2024-09-21T11:01:54.938866Z",
     "start_time": "2024-09-21T11:01:54.503779Z"
    }
   },
   "cell_type": "code",
   "source": [
    "import json\n",
    "from PIL import Image, ImageDraw\n",
    "\n",
    "class GraphicalPage:\n",
    "    def __init__(self, width_in, height_in, dpi, bg_color, border_width, border_color):\n",
    "        # Convert dimensions from inches to pixels using DPI\n",
    "        self.width_px = int(width_in * dpi[0])\n",
    "        self.height_px = int(height_in * dpi[1])\n",
    "        self.dpi = dpi\n",
    "        self.bg_color = bg_color\n",
    "        self.border_width = border_width\n",
    "        self.border_color = border_color\n",
    "\n",
    "    @classmethod\n",
    "    def from_json(cls, json_data):\n",
    "        # Parse the JSON data\n",
    "        page_data = json_data['page']\n",
    "        dimensions = page_data['dimensions']\n",
    "        dpi = page_data['dpi']\n",
    "        bg_color = page_data['bg']\n",
    "        border_data = page_data['border']\n",
    "        border_width = border_data['width']\n",
    "        border_color = border_data['color']\n",
    "\n",
    "        return cls(\n",
    "            width_in=dimensions['width'],\n",
    "            height_in=dimensions['height'],\n",
    "            dpi=dpi,\n",
    "            bg_color=bg_color,\n",
    "            border_width=border_width,\n",
    "            border_color=border_color\n",
    "        )\n",
    "\n",
    "    def create_image(self):\n",
    "        # Create a blank image with the background color\n",
    "        image = Image.new(\"RGB\", (self.width_px, self.height_px), self.bg_color)\n",
    "        draw = ImageDraw.Draw(image)\n",
    "\n",
    "        # Draw the border if border width is greater than 0\n",
    "        if self.border_width > 0:\n",
    "            # Calculate the border dimensions and draw the rectangle\n",
    "            draw.rectangle(\n",
    "                [(self.border_width // 2, self.border_width // 2), \n",
    "                 (self.width_px - self.border_width // 2, self.height_px - self.border_width // 2)], \n",
    "                outline=self.border_color, \n",
    "                width=self.border_width\n",
    "            )\n",
    "\n",
    "        return image\n",
    "\n",
    "# Example usage:\n",
    "\n",
    "page_data = None\n",
    "# Load JSON data\n",
    "if os.path.exists(page_file):\n",
    "    with open(page_file, 'r') as f:\n",
    "        page_data = json.load(f)\n",
    "\n",
    "# page_data = json.loads(json_string)\n",
    "\n",
    "# Create the graphical page from JSON\n",
    "page = GraphicalPage.from_json(page_data)\n",
    "\n",
    "# Generate the image\n",
    "image = page.create_image()\n",
    "\n",
    "# Save or display the image\n",
    "image.show()  # This will open the image in the default viewer\n",
    "image.save(\"output_page.png\")  # Optionally save the image to a file\n"
   ],
   "id": "9efbb9dc0686d65b",
   "outputs": [],
   "execution_count": 4
  },
  {
   "metadata": {
    "ExecuteTime": {
     "end_time": "2024-09-22T15:39:54.510905Z",
     "start_time": "2024-09-22T15:39:54.371215Z"
    }
   },
   "cell_type": "code",
   "source": [
    "from mememaker import GraphicalPage\n",
    "\n",
    "# Create the graphical page from JSON\n",
    "page = GraphicalPage.load_from_name(\"hd\")\n",
    "\n",
    "# Generate the image\n",
    "image = page.create_image()\n",
    "\n",
    "# Save or display the image\n",
    "image.show()  # This will open the image in the default viewer\n",
    "image.save(\"output_page.png\")  #"
   ],
   "id": "82d0cc569960c58f",
   "outputs": [],
   "execution_count": 2
  },
  {
   "metadata": {},
   "cell_type": "markdown",
   "source": "",
   "id": "173b5ab63d0e52d0"
  },
  {
   "metadata": {
    "ExecuteTime": {
     "end_time": "2024-09-21T22:44:40.269464Z",
     "start_time": "2024-09-21T22:44:39.753234Z"
    }
   },
   "cell_type": "code",
   "source": [
    "from mememaker import GraphicalPage, load_template\n",
    "\n",
    "page_file = 'resources/pages/letter.json'\n",
    "\n",
    "# Create the graphical page from JSON\n",
    "page = GraphicalPage.load_from_filename(page_file)\n",
    "\n",
    "# Generate the image\n",
    "image = page.create_image()\n",
    "\n",
    "# Save or display the image\n",
    "image.show()  # This will open the image in the default viewer\n",
    "image.save(\"output_page.png\")  #\n"
   ],
   "id": "d4dc5f500ada5345",
   "outputs": [],
   "execution_count": 7
  },
  {
   "metadata": {
    "ExecuteTime": {
     "end_time": "2024-09-22T21:01:28.643748Z",
     "start_time": "2024-09-22T21:01:28.634734Z"
    }
   },
   "cell_type": "code",
   "source": [
    "from mememaker import scan_directory_for_json\n",
    "\n",
    "# Example usage\n",
    "path_list = [ 'resources/pages', 'resources/templates', 'resources/ridiculous' ]\n",
    "\n",
    "for directory_path in path_list:\n",
    "    try:\n",
    "        json_files = scan_directory_for_json(directory_path)\n",
    "    \n",
    "        # Output the list of .json files found\n",
    "        for json_file in json_files:\n",
    "            print(json_file)\n",
    "    except Exception as e:\n",
    "        print(f'Error : {e}')\n",
    "        "
   ],
   "id": "a6f439fbc38c1eac",
   "outputs": [
    {
     "name": "stdout",
     "output_type": "stream",
     "text": [
      "resources/pages/hd.json\n",
      "resources/pages/letter.json\n",
      "resources/pages/a4.json\n",
      "resources/templates/template.json\n",
      "Error : No JSON files found in directory: resources/ridiculous\n"
     ]
    }
   ],
   "execution_count": 14
  },
  {
   "metadata": {
    "ExecuteTime": {
     "end_time": "2024-09-22T20:56:03.499324Z",
     "start_time": "2024-09-22T20:56:03.489993Z"
    }
   },
   "cell_type": "code",
   "source": [
    "from mememaker import load_page, load_template\n",
    "import json\n",
    "\n",
    "try:\n",
    "    page_json = load_page(\"a4\")\n",
    "    template_json = load_template(\"meme1\")\n",
    "    \n",
    "    print(json.dumps(page_json, indent=2))\n",
    "    print(json.dumps(template_json, indent=2))\n",
    "except Exception as e:\n",
    "    print(f'Error: {e}')\n"
   ],
   "id": "a52a9e1476ae158c",
   "outputs": [
    {
     "name": "stdout",
     "output_type": "stream",
     "text": [
      "{\n",
      "  \"page\": {\n",
      "    \"name\": \"a4\",\n",
      "    \"dimensions\": {\n",
      "      \"width\": 8.27,\n",
      "      \"height\": 11.69,\n",
      "      \"units\": \"in\"\n",
      "    },\n",
      "    \"dpi\": [\n",
      "      300,\n",
      "      300\n",
      "    ],\n",
      "    \"bg\": \"lightblue\",\n",
      "    \"border\": {\n",
      "      \"width\": 8,\n",
      "      \"color\": \"yellow\"\n",
      "    }\n",
      "  }\n",
      "}\n",
      "{\n",
      "  \"template\": {\n",
      "    \"name\": \"meme1\",\n",
      "    \"page\": \"letter\",\n",
      "    \"areas\": [\n",
      "      {\n",
      "        \"name\": \"image\",\n",
      "        \"type\": \"image\",\n",
      "        \"dimensions\": {\n",
      "          \"top\": 20,\n",
      "          \"left\": 10,\n",
      "          \"bottom\": 80,\n",
      "          \"right\": 90\n",
      "        }\n",
      "      }\n",
      "    ]\n",
      "  }\n",
      "}\n"
     ]
    }
   ],
   "execution_count": 11
  },
  {
   "metadata": {},
   "cell_type": "markdown",
   "source": "## Example using Exception",
   "id": "f64a6ada5d3f4233"
  },
  {
   "metadata": {
    "ExecuteTime": {
     "end_time": "2024-09-22T20:51:36.367248Z",
     "start_time": "2024-09-22T20:51:36.359104Z"
    }
   },
   "cell_type": "code",
   "source": [
    "from mememaker import load_page, load_template\n",
    "import json\n",
    "\n",
    "try:\n",
    "    page_dats = load_page('shit')\n",
    "except FileNotFoundError as e:\n",
    "    print(f\"Error: {e}\")\n",
    "    "
   ],
   "id": "e51bfb319fc35eec",
   "outputs": [
    {
     "name": "stdout",
     "output_type": "stream",
     "text": [
      "Error: No page found with the name 'shit' in resources/pages\n"
     ]
    }
   ],
   "execution_count": 6
  },
  {
   "metadata": {
    "ExecuteTime": {
     "end_time": "2024-09-23T02:03:30.129624Z",
     "start_time": "2024-09-23T02:03:30.087301Z"
    }
   },
   "cell_type": "code",
   "source": [
    "from mememaker import get_page_names, get_template_names\n",
    "\n",
    "page_names = get_page_names()\n",
    "template_names = get_template_names()\n",
    "\n",
    "print(page_names)\n",
    "print(template_names)\n"
   ],
   "id": "1d77bfdea70926cb",
   "outputs": [
    {
     "name": "stdout",
     "output_type": "stream",
     "text": [
      "['hd', 'letter', 'a4']\n",
      "['meme1']\n"
     ]
    }
   ],
   "execution_count": 1
  }
 ],
 "metadata": {
  "kernelspec": {
   "display_name": "Python 3",
   "language": "python",
   "name": "python3"
  },
  "language_info": {
   "codemirror_mode": {
    "name": "ipython",
    "version": 2
   },
   "file_extension": ".py",
   "mimetype": "text/x-python",
   "name": "python",
   "nbconvert_exporter": "python",
   "pygments_lexer": "ipython2",
   "version": "2.7.6"
  }
 },
 "nbformat": 4,
 "nbformat_minor": 5
}
